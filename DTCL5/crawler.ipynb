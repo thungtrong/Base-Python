{
 "metadata": {
  "language_info": {
   "codemirror_mode": {
    "name": "ipython",
    "version": 3
   },
   "file_extension": ".py",
   "mimetype": "text/x-python",
   "name": "python",
   "nbconvert_exporter": "python",
   "pygments_lexer": "ipython3",
   "version": "3.9.1"
  },
  "orig_nbformat": 2,
  "kernelspec": {
   "name": "python391jvsc74a57bd0dcacb0086e9a4f4eabd41c33bf4faac5ea0a3337ed3f5eff0680afa930572c04",
   "display_name": "Python 3.9.1 64-bit"
  }
 },
 "nbformat": 4,
 "nbformat_minor": 2,
 "cells": [
  {
   "cell_type": "code",
   "execution_count": 1,
   "metadata": {},
   "outputs": [],
   "source": [
    "import numpy as np\n",
    "import pandas as pd"
   ]
  },
  {
   "cell_type": "code",
   "execution_count": 6,
   "metadata": {},
   "outputs": [
    {
     "output_type": "execute_result",
     "data": {
      "text/plain": [
       "               0       1                              2\n",
       "0          Vayne  1 Gold              Suy Vong-Cung Thủ\n",
       "1        Warwick  1 Gold                Suy Vong-Đấu Sĩ\n",
       "2       Hecarim   2 Gold                 Suy Vong-Kỵ Sĩ\n",
       "3         Thresh  2 Gold               Suy Vong-Hiệp Sĩ\n",
       "4         Viktor  2 Gold            Suy Vong-Ma Pháp Sư\n",
       "5       Katarina  3 Gold               Suy Vong-Sát Thủ\n",
       "6         Draven  4 Gold             Suy Vong-Quân Đoàn\n",
       "7          Viego  5 Gold    Suy Vong-Chiến Binh-Sát Thủ\n",
       "8       Vladimir  1 Gold                  Ma Sứ-Tái Tạo\n",
       "9        Sejuani  2 Gold                    Ma Sứ-Kỵ Sĩ\n",
       "10       Lee Sin  3 Gold               Ma Sứ-Chiến Binh\n",
       "11         Yasuo  3 Gold                Ma Sứ-Quân Đoàn\n",
       "12      Aphelios  4 Gold                 Ma Sứ-Cung Thủ\n",
       "13        Darius  5 Gold               Ma Sứ-Thần Vương\n",
       "14     Lissandra  1 Gold            Tiên Hắc Ám-Tái Tạo\n",
       "15       LeBlanc  2 Gold            Tiên Hắc Ám-Sát Thủ\n",
       "16       Morgana  3 Gold        Tiên Hắc Ám-Ma Sứ-Bí Ẩn\n",
       "17         Ziggs  1 Gold              Ác Quỷ-Ma Pháp Sư\n",
       "18          Kled  1 Gold                   Ác Quỷ-Kỵ Sĩ\n",
       "19         Poppy  1 Gold                 Ác Quỷ-Hiệp Sĩ\n",
       "20        Kennen  2 Gold              Ác Quỷ-Chiến Binh\n",
       "21          Lulu  3 Gold                   Ác Quỷ-Bí Ẩn\n",
       "22         Teemo   6 Máu      Ác Quỷ-Quỷ Vương-Thuật Sĩ\n",
       "23       Trundle  2 Gold             Đồ Long-Chiến Binh\n",
       "24      Pantheon  3 Gold             Đồ Long-Chiến Binh\n",
       "25         Diana  4 Gold          Đồ Long-Ma Sứ-Sát Thủ\n",
       "26   Mordekaiser  4 Gold              Đồ Long-Quân Đoàn\n",
       "27       Kalista  1 Gold              Thây Ma-Quân Đoàn\n",
       "28         Brand  2 Gold             Thây Ma-Ma Pháp Sư\n",
       "29          Nunu  3 Gold                 Thây Ma-Đấu Sĩ\n",
       "30          Ryze  4 Gold         Thây Ma-Suy Vong-Bí Ẩn\n",
       "31        Aatrox  1 Gold           Thiên Thần-Quân Đoàn\n",
       "32         Leona  1 Gold             Thiên Thần-Hiệp Sĩ\n",
       "33        Syndra  2 Gold            Thiên Thần-Thuật Sĩ\n",
       "34         Varus  2 Gold            Thiên Thần-Cung Thủ\n",
       "35           Lux  3 Gold               Thiên Thần-Bí Ẩn\n",
       "36       Vel'Koz  4 Gold          Thiên Thần-Ma Pháp Sư\n",
       "37        Gragas  1 Gold                 Thần Sứ-Đấu Sĩ\n",
       "38       Kha'Zix  1 Gold                Thần Sứ-Sát Thủ\n",
       "39        Soraka  2 Gold                Thần Sứ-Tái Tạo\n",
       "40       Nidalee  3 Gold             Thần Sứ-Chiến Binh\n",
       "41         Riven  3 Gold              Thần Sứ-Quân Đoàn\n",
       "42         Karma  4 Gold               Thần Sứ-Thuật Sĩ\n",
       "43         Garen  5 Gold             Thần Sứ-Thần Vương\n",
       "44         Taric  4 Gold               Tiên Tộc-Hiệp Sĩ\n",
       "45         Kayle  5 Gold  Tiên Tộc-Thiên Thần-Quân Đoàn\n",
       "46          Udyr  1 Gold            Long Tộc-Chiến Binh\n",
       "47          Sett  2 Gold                Long Tộc-Đấu Sĩ\n",
       "48          Ashe  3 Gold              Long Tộc-Cung Thủ\n",
       "49          Zyra  3 Gold            Long Tộc-Ma Pháp Sư\n",
       "50  Heimerdinger  5 Gold    Long Tộc-Tái Tạo-Luyện Rồng\n",
       "51      Nautilus  2 Gold             Thiết Giáp-Hiệp Sĩ\n",
       "52          Rell  3 Gold    Thiết Giáp-Thiên Thần-Kỵ Sĩ\n",
       "53           Jax  4 Gold          Thiết Giáp-Chiến Binh\n",
       "54       Kindred  5 Gold       Vĩnh Hằng-Cung Thủ-Bí Ẩn\n",
       "55      Nocturne  3 Gold                Tà Thần-Sát Thủ\n",
       "56         Ivern  4 Gold       Tà Thần-Thuật Sĩ-Tái Tạo\n",
       "57      Volibear  5 Gold                 Tà Thần-Đấu Sĩ"
      ],
      "text/html": "<div>\n<style scoped>\n    .dataframe tbody tr th:only-of-type {\n        vertical-align: middle;\n    }\n\n    .dataframe tbody tr th {\n        vertical-align: top;\n    }\n\n    .dataframe thead th {\n        text-align: right;\n    }\n</style>\n<table border=\"1\" class=\"dataframe\">\n  <thead>\n    <tr style=\"text-align: right;\">\n      <th></th>\n      <th>0</th>\n      <th>1</th>\n      <th>2</th>\n    </tr>\n  </thead>\n  <tbody>\n    <tr>\n      <th>0</th>\n      <td>Vayne</td>\n      <td>1 Gold</td>\n      <td>Suy Vong-Cung Thủ</td>\n    </tr>\n    <tr>\n      <th>1</th>\n      <td>Warwick</td>\n      <td>1 Gold</td>\n      <td>Suy Vong-Đấu Sĩ</td>\n    </tr>\n    <tr>\n      <th>2</th>\n      <td>Hecarim</td>\n      <td>2 Gold</td>\n      <td>Suy Vong-Kỵ Sĩ</td>\n    </tr>\n    <tr>\n      <th>3</th>\n      <td>Thresh</td>\n      <td>2 Gold</td>\n      <td>Suy Vong-Hiệp Sĩ</td>\n    </tr>\n    <tr>\n      <th>4</th>\n      <td>Viktor</td>\n      <td>2 Gold</td>\n      <td>Suy Vong-Ma Pháp Sư</td>\n    </tr>\n    <tr>\n      <th>5</th>\n      <td>Katarina</td>\n      <td>3 Gold</td>\n      <td>Suy Vong-Sát Thủ</td>\n    </tr>\n    <tr>\n      <th>6</th>\n      <td>Draven</td>\n      <td>4 Gold</td>\n      <td>Suy Vong-Quân Đoàn</td>\n    </tr>\n    <tr>\n      <th>7</th>\n      <td>Viego</td>\n      <td>5 Gold</td>\n      <td>Suy Vong-Chiến Binh-Sát Thủ</td>\n    </tr>\n    <tr>\n      <th>8</th>\n      <td>Vladimir</td>\n      <td>1 Gold</td>\n      <td>Ma Sứ-Tái Tạo</td>\n    </tr>\n    <tr>\n      <th>9</th>\n      <td>Sejuani</td>\n      <td>2 Gold</td>\n      <td>Ma Sứ-Kỵ Sĩ</td>\n    </tr>\n    <tr>\n      <th>10</th>\n      <td>Lee Sin</td>\n      <td>3 Gold</td>\n      <td>Ma Sứ-Chiến Binh</td>\n    </tr>\n    <tr>\n      <th>11</th>\n      <td>Yasuo</td>\n      <td>3 Gold</td>\n      <td>Ma Sứ-Quân Đoàn</td>\n    </tr>\n    <tr>\n      <th>12</th>\n      <td>Aphelios</td>\n      <td>4 Gold</td>\n      <td>Ma Sứ-Cung Thủ</td>\n    </tr>\n    <tr>\n      <th>13</th>\n      <td>Darius</td>\n      <td>5 Gold</td>\n      <td>Ma Sứ-Thần Vương</td>\n    </tr>\n    <tr>\n      <th>14</th>\n      <td>Lissandra</td>\n      <td>1 Gold</td>\n      <td>Tiên Hắc Ám-Tái Tạo</td>\n    </tr>\n    <tr>\n      <th>15</th>\n      <td>LeBlanc</td>\n      <td>2 Gold</td>\n      <td>Tiên Hắc Ám-Sát Thủ</td>\n    </tr>\n    <tr>\n      <th>16</th>\n      <td>Morgana</td>\n      <td>3 Gold</td>\n      <td>Tiên Hắc Ám-Ma Sứ-Bí Ẩn</td>\n    </tr>\n    <tr>\n      <th>17</th>\n      <td>Ziggs</td>\n      <td>1 Gold</td>\n      <td>Ác Quỷ-Ma Pháp Sư</td>\n    </tr>\n    <tr>\n      <th>18</th>\n      <td>Kled</td>\n      <td>1 Gold</td>\n      <td>Ác Quỷ-Kỵ Sĩ</td>\n    </tr>\n    <tr>\n      <th>19</th>\n      <td>Poppy</td>\n      <td>1 Gold</td>\n      <td>Ác Quỷ-Hiệp Sĩ</td>\n    </tr>\n    <tr>\n      <th>20</th>\n      <td>Kennen</td>\n      <td>2 Gold</td>\n      <td>Ác Quỷ-Chiến Binh</td>\n    </tr>\n    <tr>\n      <th>21</th>\n      <td>Lulu</td>\n      <td>3 Gold</td>\n      <td>Ác Quỷ-Bí Ẩn</td>\n    </tr>\n    <tr>\n      <th>22</th>\n      <td>Teemo</td>\n      <td>6 Máu</td>\n      <td>Ác Quỷ-Quỷ Vương-Thuật Sĩ</td>\n    </tr>\n    <tr>\n      <th>23</th>\n      <td>Trundle</td>\n      <td>2 Gold</td>\n      <td>Đồ Long-Chiến Binh</td>\n    </tr>\n    <tr>\n      <th>24</th>\n      <td>Pantheon</td>\n      <td>3 Gold</td>\n      <td>Đồ Long-Chiến Binh</td>\n    </tr>\n    <tr>\n      <th>25</th>\n      <td>Diana</td>\n      <td>4 Gold</td>\n      <td>Đồ Long-Ma Sứ-Sát Thủ</td>\n    </tr>\n    <tr>\n      <th>26</th>\n      <td>Mordekaiser</td>\n      <td>4 Gold</td>\n      <td>Đồ Long-Quân Đoàn</td>\n    </tr>\n    <tr>\n      <th>27</th>\n      <td>Kalista</td>\n      <td>1 Gold</td>\n      <td>Thây Ma-Quân Đoàn</td>\n    </tr>\n    <tr>\n      <th>28</th>\n      <td>Brand</td>\n      <td>2 Gold</td>\n      <td>Thây Ma-Ma Pháp Sư</td>\n    </tr>\n    <tr>\n      <th>29</th>\n      <td>Nunu</td>\n      <td>3 Gold</td>\n      <td>Thây Ma-Đấu Sĩ</td>\n    </tr>\n    <tr>\n      <th>30</th>\n      <td>Ryze</td>\n      <td>4 Gold</td>\n      <td>Thây Ma-Suy Vong-Bí Ẩn</td>\n    </tr>\n    <tr>\n      <th>31</th>\n      <td>Aatrox</td>\n      <td>1 Gold</td>\n      <td>Thiên Thần-Quân Đoàn</td>\n    </tr>\n    <tr>\n      <th>32</th>\n      <td>Leona</td>\n      <td>1 Gold</td>\n      <td>Thiên Thần-Hiệp Sĩ</td>\n    </tr>\n    <tr>\n      <th>33</th>\n      <td>Syndra</td>\n      <td>2 Gold</td>\n      <td>Thiên Thần-Thuật Sĩ</td>\n    </tr>\n    <tr>\n      <th>34</th>\n      <td>Varus</td>\n      <td>2 Gold</td>\n      <td>Thiên Thần-Cung Thủ</td>\n    </tr>\n    <tr>\n      <th>35</th>\n      <td>Lux</td>\n      <td>3 Gold</td>\n      <td>Thiên Thần-Bí Ẩn</td>\n    </tr>\n    <tr>\n      <th>36</th>\n      <td>Vel'Koz</td>\n      <td>4 Gold</td>\n      <td>Thiên Thần-Ma Pháp Sư</td>\n    </tr>\n    <tr>\n      <th>37</th>\n      <td>Gragas</td>\n      <td>1 Gold</td>\n      <td>Thần Sứ-Đấu Sĩ</td>\n    </tr>\n    <tr>\n      <th>38</th>\n      <td>Kha'Zix</td>\n      <td>1 Gold</td>\n      <td>Thần Sứ-Sát Thủ</td>\n    </tr>\n    <tr>\n      <th>39</th>\n      <td>Soraka</td>\n      <td>2 Gold</td>\n      <td>Thần Sứ-Tái Tạo</td>\n    </tr>\n    <tr>\n      <th>40</th>\n      <td>Nidalee</td>\n      <td>3 Gold</td>\n      <td>Thần Sứ-Chiến Binh</td>\n    </tr>\n    <tr>\n      <th>41</th>\n      <td>Riven</td>\n      <td>3 Gold</td>\n      <td>Thần Sứ-Quân Đoàn</td>\n    </tr>\n    <tr>\n      <th>42</th>\n      <td>Karma</td>\n      <td>4 Gold</td>\n      <td>Thần Sứ-Thuật Sĩ</td>\n    </tr>\n    <tr>\n      <th>43</th>\n      <td>Garen</td>\n      <td>5 Gold</td>\n      <td>Thần Sứ-Thần Vương</td>\n    </tr>\n    <tr>\n      <th>44</th>\n      <td>Taric</td>\n      <td>4 Gold</td>\n      <td>Tiên Tộc-Hiệp Sĩ</td>\n    </tr>\n    <tr>\n      <th>45</th>\n      <td>Kayle</td>\n      <td>5 Gold</td>\n      <td>Tiên Tộc-Thiên Thần-Quân Đoàn</td>\n    </tr>\n    <tr>\n      <th>46</th>\n      <td>Udyr</td>\n      <td>1 Gold</td>\n      <td>Long Tộc-Chiến Binh</td>\n    </tr>\n    <tr>\n      <th>47</th>\n      <td>Sett</td>\n      <td>2 Gold</td>\n      <td>Long Tộc-Đấu Sĩ</td>\n    </tr>\n    <tr>\n      <th>48</th>\n      <td>Ashe</td>\n      <td>3 Gold</td>\n      <td>Long Tộc-Cung Thủ</td>\n    </tr>\n    <tr>\n      <th>49</th>\n      <td>Zyra</td>\n      <td>3 Gold</td>\n      <td>Long Tộc-Ma Pháp Sư</td>\n    </tr>\n    <tr>\n      <th>50</th>\n      <td>Heimerdinger</td>\n      <td>5 Gold</td>\n      <td>Long Tộc-Tái Tạo-Luyện Rồng</td>\n    </tr>\n    <tr>\n      <th>51</th>\n      <td>Nautilus</td>\n      <td>2 Gold</td>\n      <td>Thiết Giáp-Hiệp Sĩ</td>\n    </tr>\n    <tr>\n      <th>52</th>\n      <td>Rell</td>\n      <td>3 Gold</td>\n      <td>Thiết Giáp-Thiên Thần-Kỵ Sĩ</td>\n    </tr>\n    <tr>\n      <th>53</th>\n      <td>Jax</td>\n      <td>4 Gold</td>\n      <td>Thiết Giáp-Chiến Binh</td>\n    </tr>\n    <tr>\n      <th>54</th>\n      <td>Kindred</td>\n      <td>5 Gold</td>\n      <td>Vĩnh Hằng-Cung Thủ-Bí Ẩn</td>\n    </tr>\n    <tr>\n      <th>55</th>\n      <td>Nocturne</td>\n      <td>3 Gold</td>\n      <td>Tà Thần-Sát Thủ</td>\n    </tr>\n    <tr>\n      <th>56</th>\n      <td>Ivern</td>\n      <td>4 Gold</td>\n      <td>Tà Thần-Thuật Sĩ-Tái Tạo</td>\n    </tr>\n    <tr>\n      <th>57</th>\n      <td>Volibear</td>\n      <td>5 Gold</td>\n      <td>Tà Thần-Đấu Sĩ</td>\n    </tr>\n  </tbody>\n</table>\n</div>"
     },
     "metadata": {},
     "execution_count": 6
    }
   ],
   "source": [
    "df = pd.read_csv(\"champ.csv\", header=None, encoding='utf', engine='python')\n",
    "# print(df.head(50))\n",
    "\n",
    "# df.set_index(0, inplace=True)\n",
    "df\n",
    "# df[0].value_counts()\n"
   ]
  },
  {
   "cell_type": "code",
   "execution_count": 7,
   "metadata": {},
   "outputs": [
    {
     "output_type": "stream",
     "name": "stdout",
     "text": [
      "Suy Vong-Cung Thủ\nSuy Vong-Đấu Sĩ\nSuy Vong-Kỵ Sĩ\nSuy Vong-Hiệp Sĩ\nSuy Vong-Ma Pháp Sư\nSuy Vong-Sát Thủ\nSuy Vong-Quân Đoàn\nSuy Vong-Chiến Binh-Sát Thủ\nMa Sứ-Tái Tạo\nMa Sứ-Kỵ Sĩ\nMa Sứ-Chiến Binh\nMa Sứ-Quân Đoàn\nMa Sứ-Cung Thủ\nMa Sứ-Thần Vương\nTiên Hắc Ám-Tái Tạo\nTiên Hắc Ám-Sát Thủ\nTiên Hắc Ám-Ma Sứ-Bí Ẩn\nÁc Quỷ-Ma Pháp Sư\nÁc Quỷ-Kỵ Sĩ\nÁc Quỷ-Hiệp Sĩ\nÁc Quỷ-Chiến Binh\nÁc Quỷ-Bí Ẩn\nÁc Quỷ-Quỷ Vương-Thuật Sĩ\nĐồ Long-Chiến Binh\nĐồ Long-Chiến Binh\nĐồ Long-Ma Sứ-Sát Thủ\nĐồ Long-Quân Đoàn\nThây Ma-Quân Đoàn\nThây Ma-Ma Pháp Sư\nThây Ma-Đấu Sĩ\nThây Ma-Suy Vong-Bí Ẩn\nThiên Thần-Quân Đoàn\nThiên Thần-Hiệp Sĩ\nThiên Thần-Thuật Sĩ\nThiên Thần-Cung Thủ\nThiên Thần-Bí Ẩn\nThiên Thần-Ma Pháp Sư\nThần Sứ-Đấu Sĩ\nThần Sứ-Sát Thủ\nThần Sứ-Tái Tạo\nThần Sứ-Chiến Binh\nThần Sứ-Quân Đoàn\nThần Sứ-Thuật Sĩ\nThần Sứ-Thần Vương\nTiên Tộc-Hiệp Sĩ\nTiên Tộc-Thiên Thần-Quân Đoàn\nLong Tộc-Chiến Binh\nLong Tộc-Đấu Sĩ\nLong Tộc-Cung Thủ\nLong Tộc-Ma Pháp Sư\nLong Tộc-Tái Tạo-Luyện Rồng\nThiết Giáp-Hiệp Sĩ\nThiết Giáp-Thiên Thần-Kỵ Sĩ\nThiết Giáp-Chiến Binh\nVĩnh Hằng-Cung Thủ-Bí Ẩn\nTà Thần-Sát Thủ\nTà Thần-Thuật Sĩ-Tái Tạo\nTà Thần-Đấu Sĩ\n{'Suy Vong': '0,1,2,3,4,5,6,7,30', 'Cung Thủ': '0,12,34,48,54', 'Đấu Sĩ': '1,29,37,47,57', 'Kỵ Sĩ': '2,9,18,52', 'Hiệp Sĩ': '3,19,32,44,51', 'Ma Pháp Sư': '4,17,28,36,49', 'Sát Thủ': '5,7,15,25,38,55', 'Quân Đoàn': '6,11,26,27,31,41,45', 'Chiến Binh': '7,10,20,23,24,40,46,53', 'Ma Sứ': '8,9,10,11,12,13,16,25', 'Tái Tạo': '8,14,39,50,56', 'Thần Vương': '13,43', 'Tiên Hắc Ám': '14,15,16', 'Bí Ẩn': '16,21,30,35,54', 'Ác Quỷ': '17,18,19,20,21,22', 'Quỷ Vương': '22', 'Thuật Sĩ': '22,33,42,56', 'Đồ Long': '23,24,25,26', 'Thây Ma': '27,28,29,30', 'Thiên Thần': '31,32,33,34,35,36,45,52', 'Thần Sứ': '37,38,39,40,41,42,43', 'Tiên Tộc': '44,45', 'Long Tộc': '46,47,48,49,50', 'Luyện Rồng': '50', 'Thiết Giáp': '51,52,53', 'Vĩnh Hằng': '54', 'Tà Thần': '55,56,57'}\n"
     ]
    }
   ],
   "source": [
    "he_toc = df[2]\n",
    "dict_he_toc = dict()\n",
    "\n",
    "n = len(he_toc)\n",
    "\n",
    "for i in range(n):\n",
    "    row = he_toc[i]\n",
    "    # print(row)\n",
    "    tmp = row.split('-')\n",
    "    \n",
    "    for he in tmp:\n",
    "        he_1 = he.strip()\n",
    "        try:\n",
    "            dict_he_toc[he_1] += f',{i}'\n",
    "        except:\n",
    "            dict_he_toc[he_1] = f'{i}'\n",
    "\n",
    "print(dict_he_toc)"
   ]
  },
  {
   "cell_type": "code",
   "execution_count": 8,
   "metadata": {},
   "outputs": [],
   "source": [
    "dataF = pd.DataFrame(zip(dict_he_toc.keys(), dict_he_toc.values()))\n"
   ]
  },
  {
   "cell_type": "code",
   "execution_count": 9,
   "metadata": {},
   "outputs": [
    {
     "output_type": "execute_result",
     "data": {
      "text/plain": [
       "              0                        1\n",
       "0      Suy Vong       0,1,2,3,4,5,6,7,30\n",
       "1      Cung Thủ            0,12,34,48,54\n",
       "2        Đấu Sĩ            1,29,37,47,57\n",
       "3         Kỵ Sĩ                2,9,18,52\n",
       "4       Hiệp Sĩ            3,19,32,44,51\n",
       "5    Ma Pháp Sư            4,17,28,36,49\n",
       "6       Sát Thủ          5,7,15,25,38,55\n",
       "7     Quân Đoàn      6,11,26,27,31,41,45\n",
       "8    Chiến Binh   7,10,20,23,24,40,46,53\n",
       "9         Ma Sứ    8,9,10,11,12,13,16,25\n",
       "10      Tái Tạo            8,14,39,50,56\n",
       "11   Thần Vương                    13,43\n",
       "12  Tiên Hắc Ám                 14,15,16\n",
       "13        Bí Ẩn           16,21,30,35,54\n",
       "14       Ác Quỷ        17,18,19,20,21,22\n",
       "15    Quỷ Vương                       22\n",
       "16     Thuật Sĩ              22,33,42,56\n",
       "17      Đồ Long              23,24,25,26\n",
       "18      Thây Ma              27,28,29,30\n",
       "19   Thiên Thần  31,32,33,34,35,36,45,52\n",
       "20      Thần Sứ     37,38,39,40,41,42,43\n",
       "21     Tiên Tộc                    44,45\n",
       "22     Long Tộc           46,47,48,49,50\n",
       "23   Luyện Rồng                       50\n",
       "24   Thiết Giáp                 51,52,53\n",
       "25    Vĩnh Hằng                       54\n",
       "26      Tà Thần                 55,56,57"
      ],
      "text/html": "<div>\n<style scoped>\n    .dataframe tbody tr th:only-of-type {\n        vertical-align: middle;\n    }\n\n    .dataframe tbody tr th {\n        vertical-align: top;\n    }\n\n    .dataframe thead th {\n        text-align: right;\n    }\n</style>\n<table border=\"1\" class=\"dataframe\">\n  <thead>\n    <tr style=\"text-align: right;\">\n      <th></th>\n      <th>0</th>\n      <th>1</th>\n    </tr>\n  </thead>\n  <tbody>\n    <tr>\n      <th>0</th>\n      <td>Suy Vong</td>\n      <td>0,1,2,3,4,5,6,7,30</td>\n    </tr>\n    <tr>\n      <th>1</th>\n      <td>Cung Thủ</td>\n      <td>0,12,34,48,54</td>\n    </tr>\n    <tr>\n      <th>2</th>\n      <td>Đấu Sĩ</td>\n      <td>1,29,37,47,57</td>\n    </tr>\n    <tr>\n      <th>3</th>\n      <td>Kỵ Sĩ</td>\n      <td>2,9,18,52</td>\n    </tr>\n    <tr>\n      <th>4</th>\n      <td>Hiệp Sĩ</td>\n      <td>3,19,32,44,51</td>\n    </tr>\n    <tr>\n      <th>5</th>\n      <td>Ma Pháp Sư</td>\n      <td>4,17,28,36,49</td>\n    </tr>\n    <tr>\n      <th>6</th>\n      <td>Sát Thủ</td>\n      <td>5,7,15,25,38,55</td>\n    </tr>\n    <tr>\n      <th>7</th>\n      <td>Quân Đoàn</td>\n      <td>6,11,26,27,31,41,45</td>\n    </tr>\n    <tr>\n      <th>8</th>\n      <td>Chiến Binh</td>\n      <td>7,10,20,23,24,40,46,53</td>\n    </tr>\n    <tr>\n      <th>9</th>\n      <td>Ma Sứ</td>\n      <td>8,9,10,11,12,13,16,25</td>\n    </tr>\n    <tr>\n      <th>10</th>\n      <td>Tái Tạo</td>\n      <td>8,14,39,50,56</td>\n    </tr>\n    <tr>\n      <th>11</th>\n      <td>Thần Vương</td>\n      <td>13,43</td>\n    </tr>\n    <tr>\n      <th>12</th>\n      <td>Tiên Hắc Ám</td>\n      <td>14,15,16</td>\n    </tr>\n    <tr>\n      <th>13</th>\n      <td>Bí Ẩn</td>\n      <td>16,21,30,35,54</td>\n    </tr>\n    <tr>\n      <th>14</th>\n      <td>Ác Quỷ</td>\n      <td>17,18,19,20,21,22</td>\n    </tr>\n    <tr>\n      <th>15</th>\n      <td>Quỷ Vương</td>\n      <td>22</td>\n    </tr>\n    <tr>\n      <th>16</th>\n      <td>Thuật Sĩ</td>\n      <td>22,33,42,56</td>\n    </tr>\n    <tr>\n      <th>17</th>\n      <td>Đồ Long</td>\n      <td>23,24,25,26</td>\n    </tr>\n    <tr>\n      <th>18</th>\n      <td>Thây Ma</td>\n      <td>27,28,29,30</td>\n    </tr>\n    <tr>\n      <th>19</th>\n      <td>Thiên Thần</td>\n      <td>31,32,33,34,35,36,45,52</td>\n    </tr>\n    <tr>\n      <th>20</th>\n      <td>Thần Sứ</td>\n      <td>37,38,39,40,41,42,43</td>\n    </tr>\n    <tr>\n      <th>21</th>\n      <td>Tiên Tộc</td>\n      <td>44,45</td>\n    </tr>\n    <tr>\n      <th>22</th>\n      <td>Long Tộc</td>\n      <td>46,47,48,49,50</td>\n    </tr>\n    <tr>\n      <th>23</th>\n      <td>Luyện Rồng</td>\n      <td>50</td>\n    </tr>\n    <tr>\n      <th>24</th>\n      <td>Thiết Giáp</td>\n      <td>51,52,53</td>\n    </tr>\n    <tr>\n      <th>25</th>\n      <td>Vĩnh Hằng</td>\n      <td>54</td>\n    </tr>\n    <tr>\n      <th>26</th>\n      <td>Tà Thần</td>\n      <td>55,56,57</td>\n    </tr>\n  </tbody>\n</table>\n</div>"
     },
     "metadata": {},
     "execution_count": 9
    }
   ],
   "source": [
    "dataF"
   ]
  },
  {
   "cell_type": "code",
   "execution_count": 10,
   "metadata": {},
   "outputs": [],
   "source": [
    "dataF.to_csv(\"Traits.csv\",index=False, header=False)"
   ]
  },
  {
   "cell_type": "code",
   "execution_count": 7,
   "metadata": {},
   "outputs": [],
   "source": [
    "a = [1,2,3,4,5, None]\n",
    "b = [1,2,3,None, None, 1]\n",
    "c = [1,2,None, None, None, None]\n",
    "df_test = pd.DataFrame(zip(a,b,c))\n",
    "df_test.head()\n",
    "df_test.to_excel(\"test.xlsx\", index=False, header=False)"
   ]
  }
 ]
}