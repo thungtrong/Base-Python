{
 "metadata": {
  "language_info": {
   "codemirror_mode": {
    "name": "ipython",
    "version": 3
   },
   "file_extension": ".py",
   "mimetype": "text/x-python",
   "name": "python",
   "nbconvert_exporter": "python",
   "pygments_lexer": "ipython3",
   "version": "3.9.1"
  },
  "orig_nbformat": 2,
  "kernelspec": {
   "name": "python391jvsc74a57bd0dcacb0086e9a4f4eabd41c33bf4faac5ea0a3337ed3f5eff0680afa930572c04",
   "display_name": "Python 3.9.1 64-bit"
  }
 },
 "nbformat": 4,
 "nbformat_minor": 2,
 "cells": [
  {
   "cell_type": "code",
   "execution_count": 2,
   "metadata": {},
   "outputs": [],
   "source": [
    "import numpy as np\n",
    "import pandas as pd"
   ]
  },
  {
   "cell_type": "code",
   "execution_count": 3,
   "metadata": {},
   "outputs": [
    {
     "output_type": "execute_result",
     "data": {
      "text/plain": [
       "          0  1                    2\n",
       "0     Vayne  1    Suy Vong-Cung Thủ\n",
       "1   Warwick  1      Suy Vong-Đấu Sĩ\n",
       "2  Hecarim   2       Suy Vong-Kỵ Sĩ\n",
       "3    Thresh  2     Suy Vong-Hiệp Sĩ\n",
       "4    Viktor  2  Suy Vong-Ma Pháp Sư"
      ],
      "text/html": "<div>\n<style scoped>\n    .dataframe tbody tr th:only-of-type {\n        vertical-align: middle;\n    }\n\n    .dataframe tbody tr th {\n        vertical-align: top;\n    }\n\n    .dataframe thead th {\n        text-align: right;\n    }\n</style>\n<table border=\"1\" class=\"dataframe\">\n  <thead>\n    <tr style=\"text-align: right;\">\n      <th></th>\n      <th>0</th>\n      <th>1</th>\n      <th>2</th>\n    </tr>\n  </thead>\n  <tbody>\n    <tr>\n      <th>0</th>\n      <td>Vayne</td>\n      <td>1</td>\n      <td>Suy Vong-Cung Thủ</td>\n    </tr>\n    <tr>\n      <th>1</th>\n      <td>Warwick</td>\n      <td>1</td>\n      <td>Suy Vong-Đấu Sĩ</td>\n    </tr>\n    <tr>\n      <th>2</th>\n      <td>Hecarim</td>\n      <td>2</td>\n      <td>Suy Vong-Kỵ Sĩ</td>\n    </tr>\n    <tr>\n      <th>3</th>\n      <td>Thresh</td>\n      <td>2</td>\n      <td>Suy Vong-Hiệp Sĩ</td>\n    </tr>\n    <tr>\n      <th>4</th>\n      <td>Viktor</td>\n      <td>2</td>\n      <td>Suy Vong-Ma Pháp Sư</td>\n    </tr>\n  </tbody>\n</table>\n</div>"
     },
     "metadata": {},
     "execution_count": 3
    }
   ],
   "source": [
    "df_champ = pd.read_csv(\"champ.csv\", header=None)\n",
    "\n",
    "df_champ.head()"
   ]
  },
  {
   "cell_type": "code",
   "execution_count": 4,
   "metadata": {},
   "outputs": [
    {
     "output_type": "execute_result",
     "data": {
      "text/plain": [
       "          0                   1      2\n",
       "0  Suy Vong  0,1,2,3,4,5,6,7,30  3,6,9\n",
       "1  Cung Thủ       0,12,34,48,54    2,3\n",
       "2    Đấu Sĩ       1,29,37,47,57    2,4\n",
       "3     Kỵ Sĩ           2,9,18,52  2,3,4\n",
       "4   Hiệp Sĩ       3,19,32,44,51  2,4,6"
      ],
      "text/html": "<div>\n<style scoped>\n    .dataframe tbody tr th:only-of-type {\n        vertical-align: middle;\n    }\n\n    .dataframe tbody tr th {\n        vertical-align: top;\n    }\n\n    .dataframe thead th {\n        text-align: right;\n    }\n</style>\n<table border=\"1\" class=\"dataframe\">\n  <thead>\n    <tr style=\"text-align: right;\">\n      <th></th>\n      <th>0</th>\n      <th>1</th>\n      <th>2</th>\n    </tr>\n  </thead>\n  <tbody>\n    <tr>\n      <th>0</th>\n      <td>Suy Vong</td>\n      <td>0,1,2,3,4,5,6,7,30</td>\n      <td>3,6,9</td>\n    </tr>\n    <tr>\n      <th>1</th>\n      <td>Cung Thủ</td>\n      <td>0,12,34,48,54</td>\n      <td>2,3</td>\n    </tr>\n    <tr>\n      <th>2</th>\n      <td>Đấu Sĩ</td>\n      <td>1,29,37,47,57</td>\n      <td>2,4</td>\n    </tr>\n    <tr>\n      <th>3</th>\n      <td>Kỵ Sĩ</td>\n      <td>2,9,18,52</td>\n      <td>2,3,4</td>\n    </tr>\n    <tr>\n      <th>4</th>\n      <td>Hiệp Sĩ</td>\n      <td>3,19,32,44,51</td>\n      <td>2,4,6</td>\n    </tr>\n  </tbody>\n</table>\n</div>"
     },
     "metadata": {},
     "execution_count": 4
    }
   ],
   "source": [
    "df_trait = pd.read_csv(\"Traits.csv\", header=None)\n",
    "\n",
    "df_trait.head()"
   ]
  },
  {
   "cell_type": "code",
   "execution_count": 5,
   "metadata": {},
   "outputs": [],
   "source": [
    "class Champion:\n",
    "    def __init__(self, name, price, traits):\n",
    "        self.name = name\n",
    "        self.price = price\n",
    "        self.traitsStr = traits\n",
    "        self.traits = traits.split(\"-\")\n",
    "    \n",
    "    def __str__(self):\n",
    "        return f'{self.name} ({self.price} Gold)'\n"
   ]
  },
  {
   "cell_type": "code",
   "execution_count": 6,
   "metadata": {},
   "outputs": [],
   "source": [
    "class Trait:\n",
    "    def __init__(self, champs, rank):\n",
    "        self.champs = [int(x) for x in champs.split(\",\")]\n",
    "        self.ranks = [int(x) for x in rank.split(\",\")]"
   ]
  },
  {
   "cell_type": "code",
   "execution_count": 7,
   "metadata": {},
   "outputs": [
    {
     "output_type": "stream",
     "name": "stdout",
     "text": [
      "Vayne (1 Gold)\n"
     ]
    }
   ],
   "source": [
    "champions = {}\n",
    "\n",
    "n = len(df_champ)\n",
    "\n",
    "for i in range(n):\n",
    "    row = df_champ.iloc[i]\n",
    "    champions[i] = Champion(row[0], row[1], row[2])\n",
    "\n",
    "print(champions[0])"
   ]
  },
  {
   "cell_type": "code",
   "execution_count": 8,
   "metadata": {},
   "outputs": [],
   "source": [
    "traits = {}\n",
    "\n",
    "n = len(df_trait)\n",
    "for i in range(n):\n",
    "    row = df_trait.iloc[i]\n",
    "    traits[row[0]] = Trait(row[1], row[2])"
   ]
  },
  {
   "cell_type": "code",
   "execution_count": 17,
   "metadata": {},
   "outputs": [
    {
     "output_type": "error",
     "ename": "KeyboardInterrupt",
     "evalue": "",
     "traceback": [
      "\u001b[1;31m---------------------------------------------------------------------------\u001b[0m",
      "\u001b[1;31mKeyboardInterrupt\u001b[0m                         Traceback (most recent call last)",
      "\u001b[1;32m<ipython-input-17-1d00f52198e0>\u001b[0m in \u001b[0;36m<module>\u001b[1;34m\u001b[0m\n\u001b[0;32m     21\u001b[0m             \u001b[1;32mfor\u001b[0m \u001b[0mj\u001b[0m \u001b[1;32min\u001b[0m \u001b[0mrange\u001b[0m\u001b[1;33m(\u001b[0m\u001b[0mi\u001b[0m\u001b[1;33m+\u001b[0m\u001b[1;36m1\u001b[0m\u001b[1;33m,\u001b[0m \u001b[0mn\u001b[0m\u001b[1;33m)\u001b[0m\u001b[1;33m:\u001b[0m\u001b[1;33m\u001b[0m\u001b[1;33m\u001b[0m\u001b[0m\n\u001b[0;32m     22\u001b[0m                 \u001b[0mnew_team\u001b[0m \u001b[1;33m=\u001b[0m \u001b[0mteam\u001b[0m\u001b[1;33m.\u001b[0m\u001b[0munion\u001b[0m\u001b[1;33m(\u001b[0m\u001b[0mvalue\u001b[0m\u001b[1;33m[\u001b[0m\u001b[0mj\u001b[0m\u001b[1;33m]\u001b[0m\u001b[1;33m)\u001b[0m\u001b[1;33m\u001b[0m\u001b[1;33m\u001b[0m\u001b[0m\n\u001b[1;32m---> 23\u001b[1;33m                 \u001b[0mbrand\u001b[0m\u001b[1;33m[\u001b[0m\u001b[0mkey\u001b[0m\u001b[1;33m]\u001b[0m\u001b[1;33m.\u001b[0m\u001b[0mappend\u001b[0m\u001b[1;33m(\u001b[0m\u001b[0mnew_team\u001b[0m\u001b[1;33m)\u001b[0m\u001b[1;33m\u001b[0m\u001b[1;33m\u001b[0m\u001b[0m\n\u001b[0m\u001b[0;32m     24\u001b[0m     \u001b[0mstack\u001b[0m\u001b[1;33m.\u001b[0m\u001b[0mappend\u001b[0m\u001b[1;33m(\u001b[0m\u001b[0mbrand\u001b[0m\u001b[1;33m)\u001b[0m\u001b[1;33m\u001b[0m\u001b[1;33m\u001b[0m\u001b[0m\n\u001b[0;32m     25\u001b[0m     \u001b[1;31m# break\u001b[0m\u001b[1;33m\u001b[0m\u001b[1;33m\u001b[0m\u001b[1;33m\u001b[0m\u001b[0m\n",
      "\u001b[1;31mKeyboardInterrupt\u001b[0m: "
     ]
    }
   ],
   "source": []
  },
  {
   "cell_type": "code",
   "execution_count": 16,
   "metadata": {},
   "outputs": [
    {
     "output_type": "error",
     "ename": "IndexError",
     "evalue": "list index out of range",
     "traceback": [
      "\u001b[1;31m---------------------------------------------------------------------------\u001b[0m",
      "\u001b[1;31mIndexError\u001b[0m                                Traceback (most recent call last)",
      "\u001b[1;32m<ipython-input-16-a815b7c6626e>\u001b[0m in \u001b[0;36m<module>\u001b[1;34m\u001b[0m\n\u001b[0;32m      1\u001b[0m \u001b[1;31m# print(len(stack))\u001b[0m\u001b[1;33m\u001b[0m\u001b[1;33m\u001b[0m\u001b[1;33m\u001b[0m\u001b[0m\n\u001b[1;32m----> 2\u001b[1;33m \u001b[0mlen\u001b[0m\u001b[1;33m(\u001b[0m\u001b[0mstack\u001b[0m\u001b[1;33m[\u001b[0m\u001b[1;36m2\u001b[0m\u001b[1;33m]\u001b[0m\u001b[1;33m[\u001b[0m\u001b[1;36m1\u001b[0m\u001b[1;33m]\u001b[0m\u001b[1;33m)\u001b[0m\u001b[1;33m\u001b[0m\u001b[1;33m\u001b[0m\u001b[0m\n\u001b[0m",
      "\u001b[1;31mIndexError\u001b[0m: list index out of range"
     ]
    }
   ],
   "source": []
  }
 ]
}